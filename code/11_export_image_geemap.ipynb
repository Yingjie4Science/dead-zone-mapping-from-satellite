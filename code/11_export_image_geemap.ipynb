{
 "cells": [
  {
   "cell_type": "markdown",
   "metadata": {
    "id": "20IdHW3Yl-5m"
   },
   "source": [
    "<a href=\"https://githubtocolab.com/giswqs/geemap/blob/master/examples/notebooks/11_export_image.ipynb\" target=\"_parent\"><img src=\"https://colab.research.google.com/assets/colab-badge.svg\" alt=\"Open in Colab\"/></a>\n",
    "\n",
    "Uncomment the following line to install [geemap](https://geemap.org) if needed."
   ]
  },
  {
   "cell_type": "code",
   "execution_count": 1,
   "metadata": {
    "id": "sGt9wNK_l-5y"
   },
   "outputs": [
    {
     "name": "stdout",
     "output_type": "stream",
     "text": [
      "Requirement already satisfied: geemap in c:\\users\\pc\\appdata\\local\\programs\\python\\python39\\lib\\site-packages (0.8.16)\n",
      "Requirement already satisfied: geeadd>=0.5.1 in c:\\users\\pc\\appdata\\local\\programs\\python\\python39\\lib\\site-packages (from geemap) (0.5.4)\n",
      "Requirement already satisfied: ipynb-py-convert in c:\\users\\pc\\appdata\\local\\programs\\python\\python39\\lib\\site-packages (from geemap) (0.4.6)\n",
      "Requirement already satisfied: ipyfilechooser in c:\\users\\pc\\appdata\\local\\programs\\python\\python39\\lib\\site-packages (from geemap) (0.4.3)\n",
      "Requirement already satisfied: bqplot in c:\\users\\pc\\appdata\\local\\programs\\python\\python39\\lib\\site-packages (from geemap) (0.12.26)\n",
      "Requirement already satisfied: numpy in c:\\users\\pc\\appdata\\local\\programs\\python\\python39\\lib\\site-packages (from geemap) (1.20.1)\n",
      "Requirement already satisfied: folium>=0.11.0 in c:\\users\\pc\\appdata\\local\\programs\\python\\python39\\lib\\site-packages (from geemap) (0.12.1)\n",
      "Requirement already satisfied: pandas in c:\\users\\pc\\appdata\\local\\programs\\python\\python39\\lib\\site-packages (from geemap) (1.1.3)\n",
      "Requirement already satisfied: pycrs in c:\\users\\pc\\appdata\\local\\programs\\python\\python39\\lib\\site-packages (from geemap) (1.0.2)\n",
      "Requirement already satisfied: ffmpeg-python in c:\\users\\pc\\appdata\\local\\programs\\python\\python39\\lib\\site-packages (from geemap) (0.2.0)\n",
      "Requirement already satisfied: ipyleaflet<=0.13.3 in c:\\users\\pc\\appdata\\local\\programs\\python\\python39\\lib\\site-packages (from geemap) (0.13.3)\n",
      "Requirement already satisfied: whiteboxgui in c:\\users\\pc\\appdata\\local\\programs\\python\\python39\\lib\\site-packages (from geemap) (0.1.9)\n",
      "Requirement already satisfied: colour in c:\\users\\pc\\appdata\\local\\programs\\python\\python39\\lib\\site-packages (from geemap) (0.1.5)\n",
      "Requirement already satisfied: python-box in c:\\users\\pc\\appdata\\local\\programs\\python\\python39\\lib\\site-packages (from geemap) (5.3.0)\n",
      "Requirement already satisfied: voila in c:\\users\\pc\\appdata\\local\\programs\\python\\python39\\lib\\site-packages (from geemap) (0.2.10)\n",
      "Requirement already satisfied: pyshp>=2.1.3 in c:\\users\\pc\\appdata\\local\\programs\\python\\python39\\lib\\site-packages (from geemap) (2.1.3)\n",
      "Requirement already satisfied: pillow in c:\\users\\pc\\appdata\\local\\programs\\python\\python39\\lib\\site-packages (from geemap) (8.0.1)\n",
      "Requirement already satisfied: geocoder in c:\\users\\pc\\appdata\\local\\programs\\python\\python39\\lib\\site-packages (from geemap) (1.38.1)\n",
      "Requirement already satisfied: ipyevents in c:\\users\\pc\\appdata\\local\\programs\\python\\python39\\lib\\site-packages (from geemap) (0.8.2)\n",
      "Requirement already satisfied: ipytree in c:\\users\\pc\\appdata\\local\\programs\\python\\python39\\lib\\site-packages (from geemap) (0.2.1)\n",
      "Requirement already satisfied: mss in c:\\users\\pc\\appdata\\local\\programs\\python\\python39\\lib\\site-packages (from geemap) (6.1.0)\n",
      "Requirement already satisfied: matplotlib in c:\\users\\pc\\appdata\\local\\programs\\python\\python39\\lib\\site-packages (from geemap) (3.3.2)\n",
      "Requirement already satisfied: click in c:\\users\\pc\\appdata\\local\\programs\\python\\python39\\lib\\site-packages (from geemap) (7.1.2)\n",
      "Requirement already satisfied: earthengine-api>=0.1.230 in c:\\users\\pc\\appdata\\local\\programs\\python\\python39\\lib\\site-packages (from geemap) (0.1.238)\n",
      "Requirement already satisfied: googledrivedownloader in c:\\users\\pc\\appdata\\local\\programs\\python\\python39\\lib\\site-packages (from geemap) (0.4)\n",
      "Requirement already satisfied: google-api-python-client in c:\\users\\pc\\appdata\\local\\programs\\python\\python39\\lib\\site-packages (from earthengine-api>=0.1.230->geemap) (1.12.3)\n",
      "Requirement already satisfied: six in c:\\users\\pc\\appdata\\local\\programs\\python\\python39\\lib\\site-packages (from earthengine-api>=0.1.230->geemap) (1.15.0)\n",
      "Requirement already satisfied: google-auth>=1.4.1 in c:\\users\\pc\\appdata\\local\\programs\\python\\python39\\lib\\site-packages (from earthengine-api>=0.1.230->geemap) (1.22.1)\n",
      "Requirement already satisfied: future in c:\\users\\pc\\appdata\\local\\programs\\python\\python39\\lib\\site-packages (from earthengine-api>=0.1.230->geemap) (0.18.2)\n",
      "Requirement already satisfied: google-cloud-storage in c:\\users\\pc\\appdata\\local\\programs\\python\\python39\\lib\\site-packages (from earthengine-api>=0.1.230->geemap) (1.31.2)\n",
      "Requirement already satisfied: google-auth-httplib2>=0.0.3 in c:\\users\\pc\\appdata\\local\\programs\\python\\python39\\lib\\site-packages (from earthengine-api>=0.1.230->geemap) (0.0.4)\n",
      "Requirement already satisfied: httplib2<1dev,>=0.9.2 in c:\\users\\pc\\appdata\\local\\programs\\python\\python39\\lib\\site-packages (from earthengine-api>=0.1.230->geemap) (0.18.1)\n",
      "Requirement already satisfied: httplib2shim in c:\\users\\pc\\appdata\\local\\programs\\python\\python39\\lib\\site-packages (from earthengine-api>=0.1.230->geemap) (0.0.3)\n",
      "Requirement already satisfied: branca>=0.3.0 in c:\\users\\pc\\appdata\\local\\programs\\python\\python39\\lib\\site-packages (from folium>=0.11.0->geemap) (0.4.2)\n",
      "Requirement already satisfied: jinja2>=2.9 in c:\\users\\pc\\appdata\\local\\programs\\python\\python39\\lib\\site-packages (from folium>=0.11.0->geemap) (2.11.2)\n",
      "Requirement already satisfied: requests in c:\\users\\pc\\appdata\\local\\programs\\python\\python39\\lib\\site-packages (from folium>=0.11.0->geemap) (2.24.0)\n",
      "Requirement already satisfied: logzero>=1.5.0 in c:\\users\\pc\\appdata\\local\\programs\\python\\python39\\lib\\site-packages (from geeadd>=0.5.1->geemap) (1.5.0)\n",
      "Requirement already satisfied: beautifulsoup4>=4.9.0 in c:\\users\\pc\\appdata\\local\\programs\\python\\python39\\lib\\site-packages\\beautifulsoup4-4.9.3-py3.9.egg (from geeadd>=0.5.1->geemap) (4.9.3)\n",
      "Requirement already satisfied: soupsieve>1.2 in c:\\users\\pc\\appdata\\local\\programs\\python\\python39\\lib\\site-packages\\soupsieve-2.0.1-py3.9.egg (from beautifulsoup4>=4.9.0->geeadd>=0.5.1->geemap) (2.0.1)\n",
      "Requirement already satisfied: pyasn1-modules>=0.2.1 in c:\\users\\pc\\appdata\\local\\programs\\python\\python39\\lib\\site-packages (from google-auth>=1.4.1->earthengine-api>=0.1.230->geemap) (0.2.8)\n",
      "Requirement already satisfied: cachetools<5.0,>=2.0.0 in c:\\users\\pc\\appdata\\local\\programs\\python\\python39\\lib\\site-packages (from google-auth>=1.4.1->earthengine-api>=0.1.230->geemap) (4.1.1)\n",
      "Requirement already satisfied: rsa<5,>=3.1.4 in c:\\users\\pc\\appdata\\local\\programs\\python\\python39\\lib\\site-packages (from google-auth>=1.4.1->earthengine-api>=0.1.230->geemap) (4.5)\n",
      "Requirement already satisfied: setuptools>=40.3.0 in c:\\users\\pc\\appdata\\local\\programs\\python\\python39\\lib\\site-packages (from google-auth>=1.4.1->earthengine-api>=0.1.230->geemap) (49.2.1)\n",
      "Requirement already satisfied: traittypes<3,>=0.2.1 in c:\\users\\pc\\appdata\\local\\programs\\python\\python39\\lib\\site-packages (from ipyleaflet<=0.13.3->geemap) (0.2.1)\n",
      "Requirement already satisfied: ipywidgets<8,>=7.5.0 in c:\\users\\pc\\appdata\\local\\programs\\python\\python39\\lib\\site-packages (from ipyleaflet<=0.13.3->geemap) (7.6.3)\n",
      "Requirement already satisfied: widgetsnbextension~=3.5.0 in c:\\users\\pc\\appdata\\local\\programs\\python\\python39\\lib\\site-packages (from ipywidgets<8,>=7.5.0->ipyleaflet<=0.13.3->geemap) (3.5.1)\n",
      "Requirement already satisfied: nbformat>=4.2.0 in c:\\users\\pc\\appdata\\local\\programs\\python\\python39\\lib\\site-packages (from ipywidgets<8,>=7.5.0->ipyleaflet<=0.13.3->geemap) (5.0.8)\n",
      "Requirement already satisfied: ipykernel>=4.5.1 in c:\\users\\pc\\appdata\\local\\programs\\python\\python39\\lib\\site-packages (from ipywidgets<8,>=7.5.0->ipyleaflet<=0.13.3->geemap) (5.3.4)\n",
      "Requirement already satisfied: jupyterlab-widgets>=1.0.0 in c:\\users\\pc\\appdata\\local\\programs\\python\\python39\\lib\\site-packages (from ipywidgets<8,>=7.5.0->ipyleaflet<=0.13.3->geemap) (1.0.0)\n",
      "Requirement already satisfied: traitlets>=4.3.1 in c:\\users\\pc\\appdata\\local\\programs\\python\\python39\\lib\\site-packages (from ipywidgets<8,>=7.5.0->ipyleaflet<=0.13.3->geemap) (5.0.5)\n",
      "Requirement already satisfied: ipython>=4.0.0 in c:\\users\\pc\\appdata\\local\\programs\\python\\python39\\lib\\site-packages (from ipywidgets<8,>=7.5.0->ipyleaflet<=0.13.3->geemap) (7.19.0)\n",
      "Requirement already satisfied: jupyter-client in c:\\users\\pc\\appdata\\local\\programs\\python\\python39\\lib\\site-packages (from ipykernel>=4.5.1->ipywidgets<8,>=7.5.0->ipyleaflet<=0.13.3->geemap) (6.1.7)\n",
      "Requirement already satisfied: tornado>=4.2 in c:\\users\\pc\\appdata\\local\\programs\\python\\python39\\lib\\site-packages (from ipykernel>=4.5.1->ipywidgets<8,>=7.5.0->ipyleaflet<=0.13.3->geemap) (6.1)\n",
      "Requirement already satisfied: decorator in c:\\users\\pc\\appdata\\local\\programs\\python\\python39\\lib\\site-packages (from ipython>=4.0.0->ipywidgets<8,>=7.5.0->ipyleaflet<=0.13.3->geemap) (4.4.2)\n",
      "Requirement already satisfied: prompt-toolkit!=3.0.0,!=3.0.1,<3.1.0,>=2.0.0 in c:\\users\\pc\\appdata\\local\\programs\\python\\python39\\lib\\site-packages (from ipython>=4.0.0->ipywidgets<8,>=7.5.0->ipyleaflet<=0.13.3->geemap) (3.0.8)\n",
      "Requirement already satisfied: pickleshare in c:\\users\\pc\\appdata\\local\\programs\\python\\python39\\lib\\site-packages (from ipython>=4.0.0->ipywidgets<8,>=7.5.0->ipyleaflet<=0.13.3->geemap) (0.7.5)\n",
      "Requirement already satisfied: pygments in c:\\users\\pc\\appdata\\local\\programs\\python\\python39\\lib\\site-packages (from ipython>=4.0.0->ipywidgets<8,>=7.5.0->ipyleaflet<=0.13.3->geemap) (2.7.2)\n",
      "Requirement already satisfied: colorama in c:\\users\\pc\\appdata\\local\\programs\\python\\python39\\lib\\site-packages (from ipython>=4.0.0->ipywidgets<8,>=7.5.0->ipyleaflet<=0.13.3->geemap) (0.4.3)\n",
      "Requirement already satisfied: backcall in c:\\users\\pc\\appdata\\local\\programs\\python\\python39\\lib\\site-packages (from ipython>=4.0.0->ipywidgets<8,>=7.5.0->ipyleaflet<=0.13.3->geemap) (0.2.0)\n",
      "Requirement already satisfied: jedi>=0.10 in c:\\users\\pc\\appdata\\local\\programs\\python\\python39\\lib\\site-packages (from ipython>=4.0.0->ipywidgets<8,>=7.5.0->ipyleaflet<=0.13.3->geemap) (0.17.2)\n",
      "Requirement already satisfied: parso<0.8.0,>=0.7.0 in c:\\users\\pc\\appdata\\local\\programs\\python\\python39\\lib\\site-packages (from jedi>=0.10->ipython>=4.0.0->ipywidgets<8,>=7.5.0->ipyleaflet<=0.13.3->geemap) (0.7.1)\n",
      "Requirement already satisfied: MarkupSafe>=0.23 in c:\\users\\pc\\appdata\\local\\programs\\python\\python39\\lib\\site-packages (from jinja2>=2.9->folium>=0.11.0->geemap) (1.1.1)\n",
      "Requirement already satisfied: jupyter-core in c:\\users\\pc\\appdata\\local\\programs\\python\\python39\\lib\\site-packages (from nbformat>=4.2.0->ipywidgets<8,>=7.5.0->ipyleaflet<=0.13.3->geemap) (4.6.3)\n",
      "Requirement already satisfied: ipython-genutils in c:\\users\\pc\\appdata\\local\\programs\\python\\python39\\lib\\site-packages (from nbformat>=4.2.0->ipywidgets<8,>=7.5.0->ipyleaflet<=0.13.3->geemap) (0.2.0)\n",
      "Requirement already satisfied: jsonschema!=2.5.0,>=2.4 in c:\\users\\pc\\appdata\\local\\programs\\python\\python39\\lib\\site-packages (from nbformat>=4.2.0->ipywidgets<8,>=7.5.0->ipyleaflet<=0.13.3->geemap) (3.2.0)\n",
      "Requirement already satisfied: attrs>=17.4.0 in c:\\users\\pc\\appdata\\local\\programs\\python\\python39\\lib\\site-packages\\attrs-20.2.0-py3.9.egg (from jsonschema!=2.5.0,>=2.4->nbformat>=4.2.0->ipywidgets<8,>=7.5.0->ipyleaflet<=0.13.3->geemap) (20.2.0)\n",
      "Requirement already satisfied: pyrsistent>=0.14.0 in c:\\users\\pc\\appdata\\local\\programs\\python\\python39\\lib\\site-packages (from jsonschema!=2.5.0,>=2.4->nbformat>=4.2.0->ipywidgets<8,>=7.5.0->ipyleaflet<=0.13.3->geemap) (0.17.3)\n",
      "Requirement already satisfied: wcwidth in c:\\users\\pc\\appdata\\local\\programs\\python\\python39\\lib\\site-packages (from prompt-toolkit!=3.0.0,!=3.0.1,<3.1.0,>=2.0.0->ipython>=4.0.0->ipywidgets<8,>=7.5.0->ipyleaflet<=0.13.3->geemap) (0.2.5)\n",
      "Requirement already satisfied: pyasn1<0.5.0,>=0.4.6 in c:\\users\\pc\\appdata\\local\\programs\\python\\python39\\lib\\site-packages (from pyasn1-modules>=0.2.1->google-auth>=1.4.1->earthengine-api>=0.1.230->geemap) (0.4.8)\n",
      "Requirement already satisfied: chardet<4,>=3.0.2 in c:\\users\\pc\\appdata\\local\\programs\\python\\python39\\lib\\site-packages (from requests->folium>=0.11.0->geemap) (3.0.4)\n",
      "Requirement already satisfied: urllib3!=1.25.0,!=1.25.1,<1.26,>=1.21.1 in c:\\users\\pc\\appdata\\local\\programs\\python\\python39\\lib\\site-packages (from requests->folium>=0.11.0->geemap) (1.25.10)\n",
      "Requirement already satisfied: idna<3,>=2.5 in c:\\users\\pc\\appdata\\local\\programs\\python\\python39\\lib\\site-packages (from requests->folium>=0.11.0->geemap) (2.10)\n",
      "Requirement already satisfied: certifi>=2017.4.17 in c:\\users\\pc\\appdata\\local\\programs\\python\\python39\\lib\\site-packages (from requests->folium>=0.11.0->geemap) (2020.6.20)\n",
      "Requirement already satisfied: notebook>=4.4.1 in c:\\users\\pc\\appdata\\local\\programs\\python\\python39\\lib\\site-packages (from widgetsnbextension~=3.5.0->ipywidgets<8,>=7.5.0->ipyleaflet<=0.13.3->geemap) (6.1.5)\n",
      "Requirement already satisfied: Send2Trash in c:\\users\\pc\\appdata\\local\\programs\\python\\python39\\lib\\site-packages (from notebook>=4.4.1->widgetsnbextension~=3.5.0->ipywidgets<8,>=7.5.0->ipyleaflet<=0.13.3->geemap) (1.5.0)\n",
      "Requirement already satisfied: pyzmq>=17 in c:\\users\\pc\\appdata\\local\\programs\\python\\python39\\lib\\site-packages (from notebook>=4.4.1->widgetsnbextension~=3.5.0->ipywidgets<8,>=7.5.0->ipyleaflet<=0.13.3->geemap) (19.0.2)\n",
      "Requirement already satisfied: nbconvert in c:\\users\\pc\\appdata\\local\\programs\\python\\python39\\lib\\site-packages (from notebook>=4.4.1->widgetsnbextension~=3.5.0->ipywidgets<8,>=7.5.0->ipyleaflet<=0.13.3->geemap) (6.0.7)\n",
      "Requirement already satisfied: argon2-cffi in c:\\users\\pc\\appdata\\local\\programs\\python\\python39\\lib\\site-packages (from notebook>=4.4.1->widgetsnbextension~=3.5.0->ipywidgets<8,>=7.5.0->ipyleaflet<=0.13.3->geemap) (20.1.0)\n",
      "Requirement already satisfied: terminado>=0.8.3 in c:\\users\\pc\\appdata\\local\\programs\\python\\python39\\lib\\site-packages (from notebook>=4.4.1->widgetsnbextension~=3.5.0->ipywidgets<8,>=7.5.0->ipyleaflet<=0.13.3->geemap) (0.9.1)\n",
      "Requirement already satisfied: prometheus-client in c:\\users\\pc\\appdata\\local\\programs\\python\\python39\\lib\\site-packages (from notebook>=4.4.1->widgetsnbextension~=3.5.0->ipywidgets<8,>=7.5.0->ipyleaflet<=0.13.3->geemap) (0.8.0)\n",
      "Requirement already satisfied: python-dateutil>=2.1 in c:\\users\\pc\\appdata\\local\\programs\\python\\python39\\lib\\site-packages (from jupyter-client->ipykernel>=4.5.1->ipywidgets<8,>=7.5.0->ipyleaflet<=0.13.3->geemap) (2.8.1)\n",
      "Requirement already satisfied: pywin32>=1.0 in c:\\users\\pc\\appdata\\local\\programs\\python\\python39\\lib\\site-packages (from jupyter-core->nbformat>=4.2.0->ipywidgets<8,>=7.5.0->ipyleaflet<=0.13.3->geemap) (228)\n",
      "Requirement already satisfied: pywinpty>=0.5 in c:\\users\\pc\\appdata\\local\\programs\\python\\python39\\lib\\site-packages (from terminado>=0.8.3->notebook>=4.4.1->widgetsnbextension~=3.5.0->ipywidgets<8,>=7.5.0->ipyleaflet<=0.13.3->geemap) (0.5.7)\n",
      "Requirement already satisfied: cffi>=1.0.0 in c:\\users\\pc\\appdata\\local\\programs\\python\\python39\\lib\\site-packages (from argon2-cffi->notebook>=4.4.1->widgetsnbextension~=3.5.0->ipywidgets<8,>=7.5.0->ipyleaflet<=0.13.3->geemap) (1.14.3)\n",
      "Requirement already satisfied: pycparser in c:\\users\\pc\\appdata\\local\\programs\\python\\python39\\lib\\site-packages (from cffi>=1.0.0->argon2-cffi->notebook>=4.4.1->widgetsnbextension~=3.5.0->ipywidgets<8,>=7.5.0->ipyleaflet<=0.13.3->geemap) (2.20)\n",
      "Requirement already satisfied: ratelim in c:\\users\\pc\\appdata\\local\\programs\\python\\python39\\lib\\site-packages (from geocoder->geemap) (0.1.6)\n",
      "Requirement already satisfied: google-api-core<2dev,>=1.21.0 in c:\\users\\pc\\appdata\\local\\programs\\python\\python39\\lib\\site-packages (from google-api-python-client->earthengine-api>=0.1.230->geemap) (1.22.4)\n",
      "Requirement already satisfied: uritemplate<4dev,>=3.0.0 in c:\\users\\pc\\appdata\\local\\programs\\python\\python39\\lib\\site-packages (from google-api-python-client->earthengine-api>=0.1.230->geemap) (3.0.1)\n",
      "Requirement already satisfied: protobuf>=3.12.0 in c:\\users\\pc\\appdata\\local\\programs\\python\\python39\\lib\\site-packages (from google-api-core<2dev,>=1.21.0->google-api-python-client->earthengine-api>=0.1.230->geemap) (3.13.0)\n",
      "Requirement already satisfied: pytz in c:\\users\\pc\\appdata\\local\\programs\\python\\python39\\lib\\site-packages (from google-api-core<2dev,>=1.21.0->google-api-python-client->earthengine-api>=0.1.230->geemap) (2020.1)\n",
      "Requirement already satisfied: googleapis-common-protos<2.0dev,>=1.6.0 in c:\\users\\pc\\appdata\\local\\programs\\python\\python39\\lib\\site-packages (from google-api-core<2dev,>=1.21.0->google-api-python-client->earthengine-api>=0.1.230->geemap) (1.52.0)\n",
      "Requirement already satisfied: google-cloud-core<2.0dev,>=1.4.1 in c:\\users\\pc\\appdata\\local\\programs\\python\\python39\\lib\\site-packages (from google-cloud-storage->earthengine-api>=0.1.230->geemap) (1.4.3)\n",
      "Requirement already satisfied: google-resumable-media<2.0dev,>=1.0.0 in c:\\users\\pc\\appdata\\local\\programs\\python\\python39\\lib\\site-packages (from google-cloud-storage->earthengine-api>=0.1.230->geemap) (1.1.0)\n",
      "Requirement already satisfied: google-crc32c<2.0dev,>=1.0 in c:\\users\\pc\\appdata\\local\\programs\\python\\python39\\lib\\site-packages (from google-resumable-media<2.0dev,>=1.0.0->google-cloud-storage->earthengine-api>=0.1.230->geemap) (1.0.0)\n",
      "Requirement already satisfied: cycler>=0.10 in c:\\users\\pc\\appdata\\local\\programs\\python\\python39\\lib\\site-packages (from matplotlib->geemap) (0.10.0)\n",
      "Requirement already satisfied: pyparsing!=2.0.4,!=2.1.2,!=2.1.6,>=2.0.3 in c:\\users\\pc\\appdata\\local\\programs\\python\\python39\\lib\\site-packages\\pyparsing-3.0.0a2-py3.9.egg (from matplotlib->geemap) (3.0.0a2)\n",
      "Requirement already satisfied: kiwisolver>=1.0.1 in c:\\users\\pc\\appdata\\local\\programs\\python\\python39\\lib\\site-packages (from matplotlib->geemap) (1.3.1)\n",
      "Requirement already satisfied: bleach in c:\\users\\pc\\appdata\\local\\programs\\python\\python39\\lib\\site-packages (from nbconvert->notebook>=4.4.1->widgetsnbextension~=3.5.0->ipywidgets<8,>=7.5.0->ipyleaflet<=0.13.3->geemap) (3.2.1)\n",
      "Requirement already satisfied: testpath in c:\\users\\pc\\appdata\\local\\programs\\python\\python39\\lib\\site-packages (from nbconvert->notebook>=4.4.1->widgetsnbextension~=3.5.0->ipywidgets<8,>=7.5.0->ipyleaflet<=0.13.3->geemap) (0.4.4)\n",
      "Requirement already satisfied: mistune<2,>=0.8.1 in c:\\users\\pc\\appdata\\local\\programs\\python\\python39\\lib\\site-packages (from nbconvert->notebook>=4.4.1->widgetsnbextension~=3.5.0->ipywidgets<8,>=7.5.0->ipyleaflet<=0.13.3->geemap) (0.8.4)\n",
      "Requirement already satisfied: pandocfilters>=1.4.1 in c:\\users\\pc\\appdata\\local\\programs\\python\\python39\\lib\\site-packages (from nbconvert->notebook>=4.4.1->widgetsnbextension~=3.5.0->ipywidgets<8,>=7.5.0->ipyleaflet<=0.13.3->geemap) (1.4.3)\n",
      "Requirement already satisfied: defusedxml in c:\\users\\pc\\appdata\\local\\programs\\python\\python39\\lib\\site-packages (from nbconvert->notebook>=4.4.1->widgetsnbextension~=3.5.0->ipywidgets<8,>=7.5.0->ipyleaflet<=0.13.3->geemap) (0.6.0)\n",
      "Requirement already satisfied: nbclient<0.6.0,>=0.5.0 in c:\\users\\pc\\appdata\\local\\programs\\python\\python39\\lib\\site-packages (from nbconvert->notebook>=4.4.1->widgetsnbextension~=3.5.0->ipywidgets<8,>=7.5.0->ipyleaflet<=0.13.3->geemap) (0.5.1)\n",
      "Requirement already satisfied: entrypoints>=0.2.2 in c:\\users\\pc\\appdata\\local\\programs\\python\\python39\\lib\\site-packages (from nbconvert->notebook>=4.4.1->widgetsnbextension~=3.5.0->ipywidgets<8,>=7.5.0->ipyleaflet<=0.13.3->geemap) (0.3)\n",
      "Requirement already satisfied: jupyterlab-pygments in c:\\users\\pc\\appdata\\local\\programs\\python\\python39\\lib\\site-packages (from nbconvert->notebook>=4.4.1->widgetsnbextension~=3.5.0->ipywidgets<8,>=7.5.0->ipyleaflet<=0.13.3->geemap) (0.1.2)\n",
      "Requirement already satisfied: nest-asyncio in c:\\users\\pc\\appdata\\local\\programs\\python\\python39\\lib\\site-packages (from nbclient<0.6.0,>=0.5.0->nbconvert->notebook>=4.4.1->widgetsnbextension~=3.5.0->ipywidgets<8,>=7.5.0->ipyleaflet<=0.13.3->geemap) (1.4.2)\n",
      "Requirement already satisfied: async-generator in c:\\users\\pc\\appdata\\local\\programs\\python\\python39\\lib\\site-packages (from nbclient<0.6.0,>=0.5.0->nbconvert->notebook>=4.4.1->widgetsnbextension~=3.5.0->ipywidgets<8,>=7.5.0->ipyleaflet<=0.13.3->geemap) (1.10)\n",
      "Requirement already satisfied: webencodings in c:\\users\\pc\\appdata\\local\\programs\\python\\python39\\lib\\site-packages (from bleach->nbconvert->notebook>=4.4.1->widgetsnbextension~=3.5.0->ipywidgets<8,>=7.5.0->ipyleaflet<=0.13.3->geemap) (0.5.1)\n",
      "Requirement already satisfied: packaging in c:\\users\\pc\\appdata\\local\\programs\\python\\python39\\lib\\site-packages\\packaging-20.4-py3.9.egg (from bleach->nbconvert->notebook>=4.4.1->widgetsnbextension~=3.5.0->ipywidgets<8,>=7.5.0->ipyleaflet<=0.13.3->geemap) (20.4)\n",
      "Requirement already satisfied: jupyter-server<2.0.0,>=0.3.0 in c:\\users\\pc\\appdata\\local\\programs\\python\\python39\\lib\\site-packages (from voila->geemap) (1.7.0)\n",
      "Requirement already satisfied: websocket-client in c:\\users\\pc\\appdata\\local\\programs\\python\\python39\\lib\\site-packages (from jupyter-server<2.0.0,>=0.3.0->voila->geemap) (0.59.0)\n",
      "Requirement already satisfied: anyio<4,>=3.0.1 in c:\\users\\pc\\appdata\\local\\programs\\python\\python39\\lib\\site-packages (from jupyter-server<2.0.0,>=0.3.0->voila->geemap) (3.0.1)\n",
      "Requirement already satisfied: sniffio>=1.1 in c:\\users\\pc\\appdata\\local\\programs\\python\\python39\\lib\\site-packages (from anyio<4,>=3.0.1->jupyter-server<2.0.0,>=0.3.0->voila->geemap) (1.2.0)\n",
      "Requirement already satisfied: whitebox in c:\\users\\pc\\appdata\\local\\programs\\python\\python39\\lib\\site-packages (from whiteboxgui->geemap) (1.4.1)\n"
     ]
    }
   ],
   "source": [
    "!pip install geemap"
   ]
  },
  {
   "cell_type": "code",
   "execution_count": 2,
   "metadata": {
    "colab": {
     "base_uri": "https://localhost:8080/",
     "height": 333
    },
    "id": "M3-_0MIhl-50",
    "outputId": "34d11c77-e8ca-4bc7-ac7d-e7a0a14e3940"
   },
   "outputs": [],
   "source": [
    "import ee\n",
    "import geemap\n",
    "import os"
   ]
  },
  {
   "cell_type": "code",
   "execution_count": 3,
   "metadata": {
    "id": "UNJv3s9Il-51"
   },
   "outputs": [
    {
     "data": {
      "application/vnd.jupyter.widget-view+json": {
       "model_id": "e6e7a1fb046a4803abe185da78cbdf16",
       "version_major": 2,
       "version_minor": 0
      },
      "text/plain": [
       "Output(layout=Layout(width='815px'))"
      ]
     },
     "metadata": {},
     "output_type": "display_data"
    }
   ],
   "source": [
    "geemap.show_youtube('_6JOA-iiEGU')"
   ]
  },
  {
   "cell_type": "code",
   "execution_count": 4,
   "metadata": {
    "id": "zJ0Dqvr1l-52"
   },
   "outputs": [
    {
     "data": {
      "application/vnd.jupyter.widget-view+json": {
       "model_id": "97e0192ed0ae4cbfa28be5bc1add0135",
       "version_major": 2,
       "version_minor": 0
      },
      "text/plain": [
       "Map(center=[40, -100], controls=(WidgetControl(options=['position'], widget=HBox(children=(ToggleButton(value=…"
      ]
     },
     "metadata": {},
     "output_type": "display_data"
    }
   ],
   "source": [
    "Map = geemap.Map()\n",
    "Map"
   ]
  },
  {
   "cell_type": "markdown",
   "metadata": {
    "id": "wLPAtivXl-53"
   },
   "source": [
    "## Download an ee.Image"
   ]
  },
  {
   "cell_type": "code",
   "execution_count": 5,
   "metadata": {
    "id": "d82GbmFJl-53"
   },
   "outputs": [],
   "source": [
    "image = ee.Image('LE7_TOA_5YEAR/1999_2003')\n",
    "\n",
    "landsat_vis = {\n",
    "    'bands': ['B4', 'B3', 'B2'], \n",
    "    'gamma': 1.4\n",
    "}\n",
    "Map.addLayer(image, landsat_vis, \"LE7_TOA_5YEAR/1999_2003\", True, 0.7)"
   ]
  },
  {
   "cell_type": "code",
   "execution_count": 6,
   "metadata": {
    "id": "Cwzrd5LOl-54"
   },
   "outputs": [],
   "source": [
    "# Draw any shapes on the map using the Drawing tools before executing this code block\n",
    "feature = Map.draw_last_feature\n",
    "\n",
    "if feature is None:\n",
    "    geom = ee.Geometry.Polygon([[[-115.413031, 35.889467],\n",
    "    [-115.413031, 36.543157],\n",
    "    [-114.034328, 36.543157],\n",
    "    [-114.034328, 35.889467],\n",
    "    [-115.413031, 35.889467]]])\n",
    "    feature = ee.Feature(geom, {})\n",
    "\n",
    "roi = feature.geometry()"
   ]
  },
  {
   "cell_type": "code",
   "execution_count": 7,
   "metadata": {
    "id": "15x9cqyNl-55"
   },
   "outputs": [],
   "source": [
    "out_dir = os.path.join(os.path.expanduser('~'), 'Downloads')\n",
    "filename = os.path.join(out_dir, 'landsat.tif')"
   ]
  },
  {
   "cell_type": "markdown",
   "metadata": {
    "id": "CPpdqLnol-55"
   },
   "source": [
    "### Exporting all bands as one single image"
   ]
  },
  {
   "cell_type": "code",
   "execution_count": 8,
   "metadata": {
    "id": "hZ6V29k7l-55"
   },
   "outputs": [
    {
     "name": "stdout",
     "output_type": "stream",
     "text": [
      "Generating URL ...\n",
      "Downloading data from https://earthengine.googleapis.com/v1alpha/projects/earthengine-legacy/thumbnails/aab033c3608c8b2b42dcd81b73d7b1e2-053038407a30b73db326e3a300ddc595:getPixels\n",
      "Please wait ...\n",
      "Data downloaded to C:\\Users\\pc\\Downloads\\landsat.tif\n"
     ]
    }
   ],
   "source": [
    "image = image.clip(roi).unmask()\n",
    "geemap.ee_export_image(image, filename=filename, scale=90, region=roi, file_per_band=False)"
   ]
  },
  {
   "cell_type": "markdown",
   "metadata": {
    "id": "l32-VFDtl-56"
   },
   "source": [
    "### Exporting each band as one image"
   ]
  },
  {
   "cell_type": "code",
   "execution_count": 9,
   "metadata": {
    "id": "r6j-cOHil-56"
   },
   "outputs": [
    {
     "name": "stdout",
     "output_type": "stream",
     "text": [
      "Generating URL ...\n",
      "Downloading data from https://earthengine.googleapis.com/v1alpha/projects/earthengine-legacy/thumbnails/d58ba3f7e16b496219a4ad624b919d97-2a8b47079cbb494b6c9b86d3447d39a9:getPixels\n",
      "Please wait ...\n",
      "Data downloaded to C:\\Users\\pc\\Downloads\n"
     ]
    }
   ],
   "source": [
    "geemap.ee_export_image(image, filename=filename, scale=90, region=roi, file_per_band=True)"
   ]
  },
  {
   "cell_type": "markdown",
   "metadata": {
    "id": "elsnuCh0l-56"
   },
   "source": [
    "### Export an image to Google Drive"
   ]
  },
  {
   "cell_type": "code",
   "execution_count": 10,
   "metadata": {
    "id": "IbCazZGol-57"
   },
   "outputs": [
    {
     "name": "stdout",
     "output_type": "stream",
     "text": [
      "Exporting landsat ...\n"
     ]
    }
   ],
   "source": [
    "geemap.ee_export_image_to_drive(image, description='landsat', folder='export', region=roi, scale=30)"
   ]
  },
  {
   "cell_type": "markdown",
   "metadata": {
    "id": "mbhvm5MCl-57"
   },
   "source": [
    "## Download an ee.ImageCollection"
   ]
  },
  {
   "cell_type": "code",
   "execution_count": 26,
   "metadata": {
    "id": "Uwdq8JRTl-57"
   },
   "outputs": [],
   "source": [
    "import ee\n",
    "import geemap\n",
    "import os"
   ]
  },
  {
   "cell_type": "code",
   "execution_count": 27,
   "metadata": {
    "id": "VMKYzRZQl-58"
   },
   "outputs": [],
   "source": [
    "# loc = ee.Geometry.Point(-99.2222, 46.7816)\n",
    "# collection = ee.ImageCollection('USDA/NAIP/DOQQ') \\\n",
    "#     .filterBounds(loc) \\\n",
    "#     .filterDate('2008-01-01', '2020-01-01') \\\n",
    "#     .filter(ee.Filter.listContains(\"system:band_names\", \"N\"))\n",
    "\n",
    "\n",
    "# test\n",
    "region = ee.Geometry.Polygon(\n",
    "  [[[-98.100390625,25.31890133035784],\n",
    "    [-81.92851562500002,25.31890133035784],\n",
    "    [-81.92851562500002,30.85951015783206],\n",
    "    [-98.100390625,30.85951015783206]]], None, False)\n",
    "yr = 2014; \n",
    "startDate = ee.Date(str(yr) + '-06-01');   \n",
    "endDate   = ee.Date(str(yr) + '-07-31');   \n",
    "dataset = ee.ImageCollection(\"NASA/OCEANDATA/MODIS-Terra/L3SMI\").filterDate(startDate, endDate)            \n",
    "\n",
    "def clipCollection(image): \n",
    "    return image.clip(region)\n",
    "\n",
    "collection = dataset.map(clipCollection)"
   ]
  },
  {
   "cell_type": "code",
   "execution_count": 28,
   "metadata": {
    "id": "b2UEYsXUl-58"
   },
   "outputs": [],
   "source": [
    "out_dir = os.path.join(os.path.expanduser('~'), 'Downloads')"
   ]
  },
  {
   "cell_type": "code",
   "execution_count": 29,
   "metadata": {
    "id": "Tnf7nmWvl-58"
   },
   "outputs": [
    {
     "name": "stdout",
     "output_type": "stream",
     "text": [
      "['T2014153', 'T2014154', 'T2014155', 'T2014156', 'T2014157', 'T2014158', 'T2014159', 'T2014160', 'T2014161', 'T2014162', 'T2014163', 'T2014164', 'T2014165', 'T2014166', 'T2014167', 'T2014168', 'T2014169', 'T2014170', 'T2014171', 'T2014172', 'T2014173', 'T2014174', 'T2014175', 'T2014176', 'T2014177', 'T2014178', 'T2014179', 'T2014180', 'T2014181', 'T2014182', 'T2014183', 'T2014184', 'T2014185', 'T2014186', 'T2014187', 'T2014188', 'T2014189', 'T2014190', 'T2014191', 'T2014192', 'T2014193', 'T2014194', 'T2014195', 'T2014196', 'T2014197', 'T2014198', 'T2014199', 'T2014200', 'T2014201', 'T2014202', 'T2014203', 'T2014204', 'T2014205', 'T2014206', 'T2014207', 'T2014208', 'T2014209', 'T2014210', 'T2014211', 'T2014212']\n",
      "60\n"
     ]
    }
   ],
   "source": [
    "print(collection.aggregate_array('system:index').getInfo())\n",
    "\n",
    "# test\n",
    "ids = collection.aggregate_array('system:index').getInfo()\n",
    "print(len(ids))"
   ]
  },
  {
   "cell_type": "code",
   "execution_count": 30,
   "metadata": {
    "id": "_INC3H3Yl-58"
   },
   "outputs": [
    {
     "name": "stdout",
     "output_type": "stream",
     "text": [
      "Total number of images: 60\n",
      "\n",
      "Exporting 1/60: T2014153.tif\n",
      "Generating URL ...\n",
      "Downloading data from https://earthengine.googleapis.com/v1alpha/projects/earthengine-legacy/thumbnails/bc836d960ceab977c83ad2a73c5bbb62-584bae91b4a4838aae1ba6eb80b5d2e7:getPixels\n",
      "Please wait ...\n",
      "Data downloaded to C:\\Users\\pc\\Downloads\\T2014153.tif\n",
      "\n",
      "\n",
      "Exporting 2/60: T2014154.tif\n",
      "Generating URL ...\n",
      "Downloading data from https://earthengine.googleapis.com/v1alpha/projects/earthengine-legacy/thumbnails/6a89b657b07f74c717494ad0962c221e-6b0f3c2e73d83297934341b64d0cc1ab:getPixels\n",
      "Please wait ...\n",
      "Data downloaded to C:\\Users\\pc\\Downloads\\T2014154.tif\n",
      "\n",
      "\n",
      "Exporting 3/60: T2014155.tif\n",
      "Generating URL ...\n",
      "Downloading data from https://earthengine.googleapis.com/v1alpha/projects/earthengine-legacy/thumbnails/cf363d495135bddb851b2ee5b50b3abe-fac2fd8064fb4dc520c6679ce3d1f1b0:getPixels\n",
      "Please wait ...\n",
      "Data downloaded to C:\\Users\\pc\\Downloads\\T2014155.tif\n",
      "\n",
      "\n",
      "Exporting 4/60: T2014156.tif\n",
      "Generating URL ...\n",
      "Downloading data from https://earthengine.googleapis.com/v1alpha/projects/earthengine-legacy/thumbnails/93bd5e50aa576d51eda31d6eb61bb58e-29c911e89ca27e93fb82f19dd28d91b8:getPixels\n",
      "Please wait ...\n",
      "Data downloaded to C:\\Users\\pc\\Downloads\\T2014156.tif\n",
      "\n",
      "\n",
      "Exporting 5/60: T2014157.tif\n",
      "Generating URL ...\n",
      "Downloading data from https://earthengine.googleapis.com/v1alpha/projects/earthengine-legacy/thumbnails/9f63bf3ca240ecf4a726e9a3c0b190e1-e3e735c4b889368b4c13bffcd71dddc4:getPixels\n",
      "Please wait ...\n",
      "Data downloaded to C:\\Users\\pc\\Downloads\\T2014157.tif\n",
      "\n",
      "\n",
      "Exporting 6/60: T2014158.tif\n",
      "Generating URL ...\n",
      "Downloading data from https://earthengine.googleapis.com/v1alpha/projects/earthengine-legacy/thumbnails/66a2e5fc62dc2a08a2bc7a67966ee3d5-66dd38440415eac8a624ef9f30e20b94:getPixels\n",
      "Please wait ...\n",
      "Data downloaded to C:\\Users\\pc\\Downloads\\T2014158.tif\n",
      "\n",
      "\n",
      "Exporting 7/60: T2014159.tif\n",
      "Generating URL ...\n",
      "Downloading data from https://earthengine.googleapis.com/v1alpha/projects/earthengine-legacy/thumbnails/f0f96b888b1113fa911d1044b29d9f6f-7d1425964391b80ca549ce7f801281f6:getPixels\n",
      "Please wait ...\n",
      "Data downloaded to C:\\Users\\pc\\Downloads\\T2014159.tif\n",
      "\n",
      "\n",
      "Exporting 8/60: T2014160.tif\n",
      "Generating URL ...\n",
      "Downloading data from https://earthengine.googleapis.com/v1alpha/projects/earthengine-legacy/thumbnails/50476611152704e2d91ec9b6d39ae91a-bb8ae9121498014678e15e96a19dcb7a:getPixels\n",
      "Please wait ...\n",
      "Data downloaded to C:\\Users\\pc\\Downloads\\T2014160.tif\n",
      "\n",
      "\n",
      "Exporting 9/60: T2014161.tif\n",
      "Generating URL ...\n",
      "Downloading data from https://earthengine.googleapis.com/v1alpha/projects/earthengine-legacy/thumbnails/085a2603901a8e10a2593c87bb3567b6-c7330bda3960ccb0b0d58b82f8a0ec84:getPixels\n",
      "Please wait ...\n",
      "Data downloaded to C:\\Users\\pc\\Downloads\\T2014161.tif\n",
      "\n",
      "\n",
      "Exporting 10/60: T2014162.tif\n",
      "Generating URL ...\n",
      "Downloading data from https://earthengine.googleapis.com/v1alpha/projects/earthengine-legacy/thumbnails/7296ab925b7234400f90a8e3e2e628b3-e415e276f82034f0cce1dc4b566fc939:getPixels\n",
      "Please wait ...\n",
      "Data downloaded to C:\\Users\\pc\\Downloads\\T2014162.tif\n",
      "\n",
      "\n",
      "Exporting 11/60: T2014163.tif\n",
      "Generating URL ...\n",
      "Downloading data from https://earthengine.googleapis.com/v1alpha/projects/earthengine-legacy/thumbnails/70bbb598bbb99bd3814cd5b8c6aa3062-0f1854985bf3123865f7738b92637afd:getPixels\n",
      "Please wait ...\n",
      "Data downloaded to C:\\Users\\pc\\Downloads\\T2014163.tif\n",
      "\n",
      "\n",
      "Exporting 12/60: T2014164.tif\n",
      "Generating URL ...\n",
      "Downloading data from https://earthengine.googleapis.com/v1alpha/projects/earthengine-legacy/thumbnails/ded1981e45ed41fb8b86cddffc235518-4932937d41b0abcb2a2b0dd1015a8d44:getPixels\n",
      "Please wait ...\n",
      "Data downloaded to C:\\Users\\pc\\Downloads\\T2014164.tif\n",
      "\n",
      "\n",
      "Exporting 13/60: T2014165.tif\n",
      "Generating URL ...\n",
      "Downloading data from https://earthengine.googleapis.com/v1alpha/projects/earthengine-legacy/thumbnails/fe18654915b49ff47717cf48bb5af72f-7c080e0424a655f71d88003912062666:getPixels\n",
      "Please wait ...\n",
      "Data downloaded to C:\\Users\\pc\\Downloads\\T2014165.tif\n",
      "\n",
      "\n",
      "Exporting 14/60: T2014166.tif\n",
      "Generating URL ...\n",
      "Downloading data from https://earthengine.googleapis.com/v1alpha/projects/earthengine-legacy/thumbnails/88fa1fcc3d82a4638f27530e3b28e5d6-bb3053967bddc812915be4c63d5d4214:getPixels\n",
      "Please wait ...\n",
      "Data downloaded to C:\\Users\\pc\\Downloads\\T2014166.tif\n",
      "\n",
      "\n",
      "Exporting 15/60: T2014167.tif\n",
      "Generating URL ...\n",
      "Downloading data from https://earthengine.googleapis.com/v1alpha/projects/earthengine-legacy/thumbnails/4f576cb58421ba3189d19c6c57e59319-234ef96acf60a3054cb97835db3b60a9:getPixels\n",
      "Please wait ...\n",
      "Data downloaded to C:\\Users\\pc\\Downloads\\T2014167.tif\n",
      "\n",
      "\n",
      "Exporting 16/60: T2014168.tif\n",
      "Generating URL ...\n",
      "Downloading data from https://earthengine.googleapis.com/v1alpha/projects/earthengine-legacy/thumbnails/9124fb214dc1415071a77b63572564cd-2822633e2ffaf138d8b5c5666a64792c:getPixels\n",
      "Please wait ...\n",
      "Data downloaded to C:\\Users\\pc\\Downloads\\T2014168.tif\n",
      "\n",
      "\n",
      "Exporting 17/60: T2014169.tif\n",
      "Generating URL ...\n",
      "Downloading data from https://earthengine.googleapis.com/v1alpha/projects/earthengine-legacy/thumbnails/d85a3a2c993901d86c18cf72c130749e-37d039ea9327569432c3353ede0bbb46:getPixels\n",
      "Please wait ...\n",
      "Data downloaded to C:\\Users\\pc\\Downloads\\T2014169.tif\n",
      "\n",
      "\n",
      "Exporting 18/60: T2014170.tif\n",
      "Generating URL ...\n",
      "Downloading data from https://earthengine.googleapis.com/v1alpha/projects/earthengine-legacy/thumbnails/cbf9962c19da916d70cbdf1e3a6f8396-55f47d57b09fb648eaeb6a82e909210e:getPixels\n",
      "Please wait ...\n",
      "Data downloaded to C:\\Users\\pc\\Downloads\\T2014170.tif\n",
      "\n",
      "\n",
      "Exporting 19/60: T2014171.tif\n",
      "Generating URL ...\n",
      "Downloading data from https://earthengine.googleapis.com/v1alpha/projects/earthengine-legacy/thumbnails/4a3e560eed4229578d90bc108c753b93-dc2c776055842db86c3df2ed75fc505f:getPixels\n",
      "Please wait ...\n",
      "Data downloaded to C:\\Users\\pc\\Downloads\\T2014171.tif\n",
      "\n",
      "\n",
      "Exporting 20/60: T2014172.tif\n",
      "Generating URL ...\n",
      "Downloading data from https://earthengine.googleapis.com/v1alpha/projects/earthengine-legacy/thumbnails/762b4a2afc9f4bf75c3900a587b9eb6e-1ffe46de11fd7a2b52f583005aa93e0d:getPixels\n",
      "Please wait ...\n",
      "Data downloaded to C:\\Users\\pc\\Downloads\\T2014172.tif\n",
      "\n",
      "\n",
      "Exporting 21/60: T2014173.tif\n",
      "Generating URL ...\n",
      "Downloading data from https://earthengine.googleapis.com/v1alpha/projects/earthengine-legacy/thumbnails/2871232cb63e5b319bade11759e22b51-4b90990f8e54040452e49744c880766a:getPixels\n",
      "Please wait ...\n",
      "Data downloaded to C:\\Users\\pc\\Downloads\\T2014173.tif\n",
      "\n",
      "\n",
      "Exporting 22/60: T2014174.tif\n",
      "Generating URL ...\n",
      "Downloading data from https://earthengine.googleapis.com/v1alpha/projects/earthengine-legacy/thumbnails/09585885a3ebd3e7b06fe60d83d805dc-b735c824b6f94a3eb59ae80714754ef4:getPixels\n",
      "Please wait ...\n",
      "Data downloaded to C:\\Users\\pc\\Downloads\\T2014174.tif\n",
      "\n",
      "\n",
      "Exporting 23/60: T2014175.tif\n",
      "Generating URL ...\n",
      "Downloading data from https://earthengine.googleapis.com/v1alpha/projects/earthengine-legacy/thumbnails/0361653ee5b027056dde67570833c0f4-ad952bfce3a6dd3a66d0a2e000c4decb:getPixels\n",
      "Please wait ...\n",
      "Data downloaded to C:\\Users\\pc\\Downloads\\T2014175.tif\n",
      "\n",
      "\n",
      "Exporting 24/60: T2014176.tif\n",
      "Generating URL ...\n",
      "Downloading data from https://earthengine.googleapis.com/v1alpha/projects/earthengine-legacy/thumbnails/5b3204cf7ac7d2fc53978793edaca8e9-19d44a0b2df973a6dbb6e34c5e4f7934:getPixels\n",
      "Please wait ...\n",
      "Data downloaded to C:\\Users\\pc\\Downloads\\T2014176.tif\n",
      "\n",
      "\n",
      "Exporting 25/60: T2014177.tif\n",
      "Generating URL ...\n",
      "Downloading data from https://earthengine.googleapis.com/v1alpha/projects/earthengine-legacy/thumbnails/72cf07df66bbd695790709c56cbb3db0-6cbca734558d4ce6895fd6c84351942d:getPixels\n",
      "Please wait ...\n",
      "Data downloaded to C:\\Users\\pc\\Downloads\\T2014177.tif\n",
      "\n",
      "\n",
      "Exporting 26/60: T2014178.tif\n",
      "Generating URL ...\n",
      "Downloading data from https://earthengine.googleapis.com/v1alpha/projects/earthengine-legacy/thumbnails/9afcfdd6c5143af0a9ad57ae5dc2294f-6403d102267bb08747c0fdc2ebbaba04:getPixels\n",
      "Please wait ...\n",
      "Data downloaded to C:\\Users\\pc\\Downloads\\T2014178.tif\n",
      "\n",
      "\n",
      "Exporting 27/60: T2014179.tif\n",
      "Generating URL ...\n",
      "Downloading data from https://earthengine.googleapis.com/v1alpha/projects/earthengine-legacy/thumbnails/588914957ef3dd99ca3407adcfd745e6-2f8a0837efd8f08482ff6e921594bfa7:getPixels\n",
      "Please wait ...\n",
      "Data downloaded to C:\\Users\\pc\\Downloads\\T2014179.tif\n",
      "\n",
      "\n",
      "Exporting 28/60: T2014180.tif\n",
      "Generating URL ...\n"
     ]
    },
    {
     "name": "stdout",
     "output_type": "stream",
     "text": [
      "Downloading data from https://earthengine.googleapis.com/v1alpha/projects/earthengine-legacy/thumbnails/2c82abeac9d6b5869b8a8d20a7451784-930e15005d8245e32dc8510b83a5ec3e:getPixels\n",
      "Please wait ...\n",
      "Data downloaded to C:\\Users\\pc\\Downloads\\T2014180.tif\n",
      "\n",
      "\n",
      "Exporting 29/60: T2014181.tif\n",
      "Generating URL ...\n",
      "Downloading data from https://earthengine.googleapis.com/v1alpha/projects/earthengine-legacy/thumbnails/e014dd8c9114292dc2d10765c96477c9-e81d58793c6e6f8456217595920942b1:getPixels\n",
      "Please wait ...\n",
      "Data downloaded to C:\\Users\\pc\\Downloads\\T2014181.tif\n",
      "\n",
      "\n",
      "Exporting 30/60: T2014182.tif\n",
      "Generating URL ...\n",
      "Downloading data from https://earthengine.googleapis.com/v1alpha/projects/earthengine-legacy/thumbnails/e378936d5e2fabe5badb683c733b0012-8570a4ba019957deac455c68d3ec1974:getPixels\n",
      "Please wait ...\n",
      "Data downloaded to C:\\Users\\pc\\Downloads\\T2014182.tif\n",
      "\n",
      "\n",
      "Exporting 31/60: T2014183.tif\n",
      "Generating URL ...\n",
      "Downloading data from https://earthengine.googleapis.com/v1alpha/projects/earthengine-legacy/thumbnails/25e157bdd1fe17f7926a2de12e7091d6-5c10db993095150fa9a7c0ba881cea9d:getPixels\n",
      "Please wait ...\n",
      "Data downloaded to C:\\Users\\pc\\Downloads\\T2014183.tif\n",
      "\n",
      "\n",
      "Exporting 32/60: T2014184.tif\n",
      "Generating URL ...\n",
      "Downloading data from https://earthengine.googleapis.com/v1alpha/projects/earthengine-legacy/thumbnails/3355e70665fd111655ccb309edd39b67-c3c6f1566a58ba987dd559297bbb4cbd:getPixels\n",
      "Please wait ...\n",
      "Data downloaded to C:\\Users\\pc\\Downloads\\T2014184.tif\n",
      "\n",
      "\n",
      "Exporting 33/60: T2014185.tif\n",
      "Generating URL ...\n",
      "Downloading data from https://earthengine.googleapis.com/v1alpha/projects/earthengine-legacy/thumbnails/bca6f7aaf3b54b0d8d9026c4d77ffe4b-aae32bedc1b6a6270d4eabbf524f3744:getPixels\n",
      "Please wait ...\n",
      "Data downloaded to C:\\Users\\pc\\Downloads\\T2014185.tif\n",
      "\n",
      "\n",
      "Exporting 34/60: T2014186.tif\n",
      "Generating URL ...\n",
      "Downloading data from https://earthengine.googleapis.com/v1alpha/projects/earthengine-legacy/thumbnails/0b4182b8cee7f1c01c29f71af2a1268d-b239c2ac38cc219e07f4c9696f62e2cd:getPixels\n",
      "Please wait ...\n",
      "Data downloaded to C:\\Users\\pc\\Downloads\\T2014186.tif\n",
      "\n",
      "\n",
      "Exporting 35/60: T2014187.tif\n",
      "Generating URL ...\n",
      "Downloading data from https://earthengine.googleapis.com/v1alpha/projects/earthengine-legacy/thumbnails/9bf5d166d9dda0817dcb90d556ec60cf-6a4c8bbe8cdaeb427f1f15e02fd8ea61:getPixels\n",
      "Please wait ...\n",
      "Data downloaded to C:\\Users\\pc\\Downloads\\T2014187.tif\n",
      "\n",
      "\n",
      "Exporting 36/60: T2014188.tif\n",
      "Generating URL ...\n",
      "Downloading data from https://earthengine.googleapis.com/v1alpha/projects/earthengine-legacy/thumbnails/5c36d5ab360f1a96edbd6c94e50f7061-912742344f3a8d2525558d5cc5299d1e:getPixels\n",
      "Please wait ...\n",
      "Data downloaded to C:\\Users\\pc\\Downloads\\T2014188.tif\n",
      "\n",
      "\n",
      "Exporting 37/60: T2014189.tif\n",
      "Generating URL ...\n",
      "Downloading data from https://earthengine.googleapis.com/v1alpha/projects/earthengine-legacy/thumbnails/d8cacb7a2399c339171e33d77d79f958-245036b1e473a2d791a5fc45cb0ee4ec:getPixels\n",
      "Please wait ...\n",
      "Data downloaded to C:\\Users\\pc\\Downloads\\T2014189.tif\n",
      "\n",
      "\n",
      "Exporting 38/60: T2014190.tif\n",
      "Generating URL ...\n",
      "Downloading data from https://earthengine.googleapis.com/v1alpha/projects/earthengine-legacy/thumbnails/123e4ec37494b42fa8067ebc6ddf64c9-81d4359bbe32135d58c1e314ec73eef2:getPixels\n",
      "Please wait ...\n",
      "Data downloaded to C:\\Users\\pc\\Downloads\\T2014190.tif\n",
      "\n",
      "\n",
      "Exporting 39/60: T2014191.tif\n",
      "Generating URL ...\n",
      "Downloading data from https://earthengine.googleapis.com/v1alpha/projects/earthengine-legacy/thumbnails/eab0e02e55dd2c1451b92280165f48be-74e8cdf3553ecd715dd461b8cdbf5ac5:getPixels\n",
      "Please wait ...\n",
      "Data downloaded to C:\\Users\\pc\\Downloads\\T2014191.tif\n",
      "\n",
      "\n",
      "Exporting 40/60: T2014192.tif\n",
      "Generating URL ...\n",
      "Downloading data from https://earthengine.googleapis.com/v1alpha/projects/earthengine-legacy/thumbnails/055102752bdde10f1882df6212d2bf72-fb37035b1170b662a071c43130c615d0:getPixels\n",
      "Please wait ...\n",
      "Data downloaded to C:\\Users\\pc\\Downloads\\T2014192.tif\n",
      "\n",
      "\n",
      "Exporting 41/60: T2014193.tif\n",
      "Generating URL ...\n",
      "Downloading data from https://earthengine.googleapis.com/v1alpha/projects/earthengine-legacy/thumbnails/8707d24eb10643ba304dc655df507aa1-392cdba737c9a6ec2b3564854ee96dd3:getPixels\n",
      "Please wait ...\n",
      "Data downloaded to C:\\Users\\pc\\Downloads\\T2014193.tif\n",
      "\n",
      "\n",
      "Exporting 42/60: T2014194.tif\n",
      "Generating URL ...\n",
      "Downloading data from https://earthengine.googleapis.com/v1alpha/projects/earthengine-legacy/thumbnails/1fbc8876c6954a56ece5f2221b8510a6-747bbb41cb886da107fbbff31e4f9ac2:getPixels\n",
      "Please wait ...\n",
      "Data downloaded to C:\\Users\\pc\\Downloads\\T2014194.tif\n",
      "\n",
      "\n",
      "Exporting 43/60: T2014195.tif\n",
      "Generating URL ...\n",
      "Downloading data from https://earthengine.googleapis.com/v1alpha/projects/earthengine-legacy/thumbnails/8498b60d38210dda6bb2ad6cbcce8ab3-6f8c4504fe595970f92fe994e89b49cf:getPixels\n",
      "Please wait ...\n",
      "Data downloaded to C:\\Users\\pc\\Downloads\\T2014195.tif\n",
      "\n",
      "\n",
      "Exporting 44/60: T2014196.tif\n",
      "Generating URL ...\n",
      "Downloading data from https://earthengine.googleapis.com/v1alpha/projects/earthengine-legacy/thumbnails/6466ae5eff83c0f5393bd10361ef1c2e-c98d97c765d74c3d780b3077c3a765ff:getPixels\n",
      "Please wait ...\n",
      "Data downloaded to C:\\Users\\pc\\Downloads\\T2014196.tif\n",
      "\n",
      "\n",
      "Exporting 45/60: T2014197.tif\n",
      "Generating URL ...\n",
      "Downloading data from https://earthengine.googleapis.com/v1alpha/projects/earthengine-legacy/thumbnails/be26c1b5a44cf9c8eb82fd1a75d95954-7def5382baf8d3825ccaa80b9e95f605:getPixels\n",
      "Please wait ...\n",
      "Data downloaded to C:\\Users\\pc\\Downloads\\T2014197.tif\n",
      "\n",
      "\n",
      "Exporting 46/60: T2014198.tif\n",
      "Generating URL ...\n",
      "Downloading data from https://earthengine.googleapis.com/v1alpha/projects/earthengine-legacy/thumbnails/88bef4457e53d6584c9a8481b2327d6c-487f7bd7997fd4c209753b6409f8feb3:getPixels\n",
      "Please wait ...\n",
      "Data downloaded to C:\\Users\\pc\\Downloads\\T2014198.tif\n",
      "\n",
      "\n",
      "Exporting 47/60: T2014199.tif\n",
      "Generating URL ...\n",
      "Downloading data from https://earthengine.googleapis.com/v1alpha/projects/earthengine-legacy/thumbnails/f9e9f39ea6b95b31e6e9cc0de434342e-09a9a7220ab73da883610686ae176959:getPixels\n",
      "Please wait ...\n",
      "Data downloaded to C:\\Users\\pc\\Downloads\\T2014199.tif\n",
      "\n",
      "\n",
      "Exporting 48/60: T2014200.tif\n",
      "Generating URL ...\n",
      "Downloading data from https://earthengine.googleapis.com/v1alpha/projects/earthengine-legacy/thumbnails/f8f74a607e375c49669889bda3355c66-3841c55698bee1960b422a4a16c0dab2:getPixels\n",
      "Please wait ...\n",
      "Data downloaded to C:\\Users\\pc\\Downloads\\T2014200.tif\n",
      "\n",
      "\n",
      "Exporting 49/60: T2014201.tif\n",
      "Generating URL ...\n",
      "Downloading data from https://earthengine.googleapis.com/v1alpha/projects/earthengine-legacy/thumbnails/04270f4d34e087fdec07a995553451e3-820fe8272106ff69cbcd7c2835cb72c5:getPixels\n",
      "Please wait ...\n",
      "Data downloaded to C:\\Users\\pc\\Downloads\\T2014201.tif\n",
      "\n",
      "\n",
      "Exporting 50/60: T2014202.tif\n",
      "Generating URL ...\n",
      "Downloading data from https://earthengine.googleapis.com/v1alpha/projects/earthengine-legacy/thumbnails/9c0cb8a6012f70c688a381825507f721-b167cf62194f15498559fa859dc9dd7d:getPixels\n",
      "Please wait ...\n",
      "Data downloaded to C:\\Users\\pc\\Downloads\\T2014202.tif\n",
      "\n",
      "\n",
      "Exporting 51/60: T2014203.tif\n",
      "Generating URL ...\n",
      "Downloading data from https://earthengine.googleapis.com/v1alpha/projects/earthengine-legacy/thumbnails/edbeed0fbd67043982a901e49c91d838-172e32047ac81cb29f7d6354f5470781:getPixels\n",
      "Please wait ...\n",
      "Data downloaded to C:\\Users\\pc\\Downloads\\T2014203.tif\n",
      "\n",
      "\n",
      "Exporting 52/60: T2014204.tif\n",
      "Generating URL ...\n",
      "Downloading data from https://earthengine.googleapis.com/v1alpha/projects/earthengine-legacy/thumbnails/eb6d83ec47bf32769f5412f9a8a5ab36-df41e7b2337fd0c499c0d30307fe74e5:getPixels\n",
      "Please wait ...\n",
      "Data downloaded to C:\\Users\\pc\\Downloads\\T2014204.tif\n",
      "\n",
      "\n",
      "Exporting 53/60: T2014205.tif\n",
      "Generating URL ...\n",
      "Downloading data from https://earthengine.googleapis.com/v1alpha/projects/earthengine-legacy/thumbnails/50660d0d59b1dfab1fbecc748f2a8add-f021a04ff9fc7a5c8dd734ba203a81a5:getPixels\n",
      "Please wait ...\n",
      "Data downloaded to C:\\Users\\pc\\Downloads\\T2014205.tif\n",
      "\n",
      "\n",
      "Exporting 54/60: T2014206.tif\n",
      "Generating URL ...\n",
      "Downloading data from https://earthengine.googleapis.com/v1alpha/projects/earthengine-legacy/thumbnails/2a7b06336abe4944ce09607e2f7e4cc9-98ad55a02c1628f7c376329255d1dd35:getPixels\n",
      "Please wait ...\n",
      "Data downloaded to C:\\Users\\pc\\Downloads\\T2014206.tif\n",
      "\n",
      "\n",
      "Exporting 55/60: T2014207.tif\n",
      "Generating URL ...\n",
      "Downloading data from https://earthengine.googleapis.com/v1alpha/projects/earthengine-legacy/thumbnails/adeff3bb8d635e62726bdac8e7d3e561-3a0aff4981c0c4f32bc415338028ebf1:getPixels\n",
      "Please wait ...\n"
     ]
    },
    {
     "name": "stdout",
     "output_type": "stream",
     "text": [
      "Data downloaded to C:\\Users\\pc\\Downloads\\T2014207.tif\n",
      "\n",
      "\n",
      "Exporting 56/60: T2014208.tif\n",
      "Generating URL ...\n",
      "Downloading data from https://earthengine.googleapis.com/v1alpha/projects/earthengine-legacy/thumbnails/4bfe3af03154c012addc22adbbed77a2-07900e250ad547f088a275f102d1d5be:getPixels\n",
      "Please wait ...\n",
      "Data downloaded to C:\\Users\\pc\\Downloads\\T2014208.tif\n",
      "\n",
      "\n",
      "Exporting 57/60: T2014209.tif\n",
      "Generating URL ...\n",
      "Downloading data from https://earthengine.googleapis.com/v1alpha/projects/earthengine-legacy/thumbnails/2f10f5083adc6a27ceac8d67a8cf82c8-3b0b32612ed8fb7739000716bf67e02f:getPixels\n",
      "Please wait ...\n",
      "Data downloaded to C:\\Users\\pc\\Downloads\\T2014209.tif\n",
      "\n",
      "\n",
      "Exporting 58/60: T2014210.tif\n",
      "Generating URL ...\n",
      "Downloading data from https://earthengine.googleapis.com/v1alpha/projects/earthengine-legacy/thumbnails/9715efd0d30a685e1194874222d495ee-69e3a26907126c387ef066b460972488:getPixels\n",
      "Please wait ...\n",
      "Data downloaded to C:\\Users\\pc\\Downloads\\T2014210.tif\n",
      "\n",
      "\n",
      "Exporting 59/60: T2014211.tif\n",
      "Generating URL ...\n",
      "Downloading data from https://earthengine.googleapis.com/v1alpha/projects/earthengine-legacy/thumbnails/555002bab9ebc75129c0377eab264319-068e67b3432f92d0720e12d210b10582:getPixels\n",
      "Please wait ...\n",
      "Data downloaded to C:\\Users\\pc\\Downloads\\T2014211.tif\n",
      "\n",
      "\n",
      "Exporting 60/60: T2014212.tif\n",
      "Generating URL ...\n",
      "Downloading data from https://earthengine.googleapis.com/v1alpha/projects/earthengine-legacy/thumbnails/61316cfee794fdaad20807a9563a460f-584e8c7a1db762d6d3733b69d6914e74:getPixels\n",
      "Please wait ...\n",
      "Data downloaded to C:\\Users\\pc\\Downloads\\T2014212.tif\n",
      "\n",
      "\n"
     ]
    }
   ],
   "source": [
    "geemap.ee_export_image_collection(collection, out_dir=out_dir)"
   ]
  },
  {
   "cell_type": "code",
   "execution_count": 31,
   "metadata": {
    "id": "c8vOwhj7l-59",
    "scrolled": true
   },
   "outputs": [],
   "source": [
    "# geemap.ee_export_image_collection_to_drive(collection, folder='export', scale=10)"
   ]
  },
  {
   "cell_type": "markdown",
   "metadata": {
    "id": "9Td_NYrSl-59"
   },
   "source": [
    "## Extract pixels as a Numpy array"
   ]
  },
  {
   "cell_type": "code",
   "execution_count": null,
   "metadata": {
    "id": "XAUjWZ_ll-59"
   },
   "outputs": [],
   "source": [
    "import ee\n",
    "import geemap\n",
    "import numpy as np\n",
    "import matplotlib.pyplot as plt\n",
    "\n",
    "img = ee.Image('LANDSAT/LC08/C01/T1_SR/LC08_038029_20180810') \\\n",
    "  .select(['B4', 'B5', 'B6'])\n",
    "\n",
    "aoi = ee.Geometry.Polygon(\n",
    "  [[[-110.8, 44.7],\n",
    "    [-110.8, 44.6],\n",
    "    [-110.6, 44.6],\n",
    "    [-110.6, 44.7]]], None, False)\n",
    "\n",
    "rgb_img = geemap.ee_to_numpy(img, region=aoi)\n",
    "print(rgb_img.shape)"
   ]
  },
  {
   "cell_type": "code",
   "execution_count": null,
   "metadata": {
    "id": "NLeyjEm8l-5-"
   },
   "outputs": [],
   "source": [
    "# Scale the data to [0, 255] to show as an RGB image. \n",
    "# Adapted from https://bit.ly/2XlmQY8. Credits to Justin Braaten\n",
    "rgb_img_test = (255*((rgb_img[:, :, 0:3] - 100)/3500)).astype('uint8')\n",
    "plt.imshow(rgb_img_test)\n",
    "plt.show()"
   ]
  }
 ],
 "metadata": {
  "colab": {
   "name": "11_export_image.ipynb",
   "provenance": []
  },
  "hide_input": false,
  "kernelspec": {
   "display_name": "Python 3",
   "language": "python",
   "name": "python3"
  },
  "language_info": {
   "codemirror_mode": {
    "name": "ipython",
    "version": 3
   },
   "file_extension": ".py",
   "mimetype": "text/x-python",
   "name": "python",
   "nbconvert_exporter": "python",
   "pygments_lexer": "ipython3",
   "version": "3.9.0"
  },
  "toc": {
   "base_numbering": 1,
   "nav_menu": {},
   "number_sections": true,
   "sideBar": true,
   "skip_h1_title": true,
   "title_cell": "Table of Contents",
   "title_sidebar": "Table of Contents",
   "toc_cell": false,
   "toc_position": {},
   "toc_section_display": true,
   "toc_window_display": true
  },
  "varInspector": {
   "cols": {
    "lenName": 16,
    "lenType": 16,
    "lenVar": 40
   },
   "kernels_config": {
    "python": {
     "delete_cmd_postfix": "",
     "delete_cmd_prefix": "del ",
     "library": "var_list.py",
     "varRefreshCmd": "print(var_dic_list())"
    },
    "r": {
     "delete_cmd_postfix": ") ",
     "delete_cmd_prefix": "rm(",
     "library": "var_list.r",
     "varRefreshCmd": "cat(var_dic_list()) "
    }
   },
   "types_to_exclude": [
    "module",
    "function",
    "builtin_function_or_method",
    "instance",
    "_Feature"
   ],
   "window_display": false
  }
 },
 "nbformat": 4,
 "nbformat_minor": 1
}
